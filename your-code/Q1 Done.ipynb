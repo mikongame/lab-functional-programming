{
 "cells": [
  {
   "cell_type": "markdown",
   "metadata": {},
   "source": [
    "In the cell below, create a Python function that wraps your previous solution for the Bag of Words lab.\n",
    "\n",
    "Requirements:\n",
    "\n",
    "1. Your function should accept the following parameters:\n",
    "    * `docs` [REQUIRED] - array of document paths.\n",
    "    * `stop_words` [OPTIONAL] - array of stop words. The default value is an empty array.\n",
    "\n",
    "1. Your function should return a Python object that contains the following:\n",
    "    * `bag_of_words` - array of strings of normalized unique words in the corpus.\n",
    "    * `term_freq` - array of the term-frequency vectors."
   ]
  },
  {
   "cell_type": "code",
   "execution_count": 20,
   "metadata": {},
   "outputs": [],
   "source": [
    "# Import required libraries\n",
    "import os\n",
    "import numpy as np\n",
    "import pandas as pd\n",
    "import random\n",
    "import operator\n",
    "import re\n",
    "import math\n",
    "\n",
    "\n",
    "# Define function\n",
    "def get_bow_from_docs(docs, stop_words=[]):\n",
    "    \n",
    "    # In the function, first define the variables you will use such as `corpus`, `bag_of_words`, and `term_freq`.\n",
    "    \n",
    "    corpus = []\n",
    "    bag_of_words = []\n",
    "    term_freq = []\n",
    "    \n",
    "    \"\"\"\n",
    "    Loop `docs` and read the content of each doc into a string in `corpus`.\n",
    "    Remember to convert the doc content to lowercases and remove punctuation.\n",
    "    \"\"\"\n",
    "\n",
    "    corpus = [open(doc,\"r\").read() for doc in docs]\n",
    "    corpus = [doc.lower() for doc in corpus]\n",
    "    corpus = [re.sub(\"[^\\w\\w*]\", \" \", doc) for doc in corpus]\n",
    "    \n",
    "    \n",
    "    \"\"\"\n",
    "    Loop `corpus`. Append the terms in each doc into the `bag_of_words` array. The terms in `bag_of_words` \n",
    "    should be unique which means before adding each term you need to check if it's already added to the array.\n",
    "    In addition, check if each term is in the `stop_words` array. Only append the term to `bag_of_words`\n",
    "    if it is not a stop word.\n",
    "    \"\"\"\n",
    "\n",
    "    for doc in corpus:\n",
    "        split = doc.split()\n",
    "        for word in split:\n",
    "            if word not in bag_of_words and word not in stop_words:\n",
    "                bag_of_words.append(word)\n",
    "    \n",
    "    \n",
    "    \"\"\"\n",
    "    Loop `corpus` again. For each doc string, count the number of occurrences of each term in `bag_of_words`. \n",
    "    Create an array for each doc's term frequency and append it to `term_freq`.\n",
    "    \"\"\"\n",
    "\n",
    "    for doc in corpus:\n",
    "        frequency = []\n",
    "        terms = doc.split()\n",
    "        for word in bag_of_words:\n",
    "            frequency.append(terms.count(word))\n",
    "        term_freq.append(frequency)\n",
    "    \n",
    "    # Now return your output as an object\n",
    "    return {\n",
    "        \"bag_of_words\": bag_of_words,\n",
    "        \"term_freq\": term_freq\n",
    "    }"
   ]
  },
  {
   "cell_type": "markdown",
   "metadata": {},
   "source": [
    "Test your function without stop words. You should see the output like below:\n",
    "\n",
    "```{'bag_of_words': ['ironhack', 'is', 'cool', 'i', 'love', 'am', 'a', 'student', 'at'], 'term_freq': [[1, 1, 1, 0, 0, 0, 0, 0, 0], [1, 0, 0, 1, 1, 0, 0, 0, 0], [1, 0, 0, 1, 0, 1, 1, 1, 1]]}```"
   ]
  },
  {
   "cell_type": "code",
   "execution_count": 21,
   "metadata": {},
   "outputs": [
    {
     "name": "stdout",
     "output_type": "stream",
     "text": [
      "{'bag_of_words': ['ironhack', 'is', 'cool', 'i', 'love', 'am', 'a', 'student', 'at'], 'term_freq': [[1, 1, 1, 0, 0, 0, 0, 0, 0], [1, 0, 0, 1, 1, 0, 0, 0, 0], [1, 0, 0, 1, 0, 1, 1, 1, 1]]}\n"
     ]
    }
   ],
   "source": [
    "# Define doc paths array\n",
    "docs = [\"doc1.txt\",\"doc2.txt\",\"doc3.txt\"]\n",
    "\n",
    "# Obtain BoW from your function\n",
    "bow = get_bow_from_docs(docs)\n",
    "\n",
    "# Print BoW\n",
    "print(bow)"
   ]
  },
  {
   "cell_type": "markdown",
   "metadata": {},
   "source": [
    "If your attempt above is successful, nice work done!\n",
    "\n",
    "Now test your function again with the stop words. In the previous lab we defined the stop words in a large array. In this lab, we'll import the stop words from Scikit-Learn."
   ]
  },
  {
   "cell_type": "code",
   "execution_count": 22,
   "metadata": {},
   "outputs": [
    {
     "name": "stdout",
     "output_type": "stream",
     "text": [
      "frozenset({'afterwards', 'either', 'have', 'your', 'moreover', 'nor', 'sincere', 'towards', 'five', 'ltd', 'the', 'one', 'am', 'while', 'via', 'them', 'last', 'otherwise', 'co', 'herself', 'thick', 'on', 'detail', 'that', 'with', 'may', 'among', 'up', 'thru', 'least', 'she', 'to', 'by', 'nobody', 'across', 'meanwhile', 'they', 'their', 'ours', 'never', 'often', 'serious', 'nine', 'itself', 'once', 'fill', 'her', 'done', 'until', 'see', 'thence', 'already', 'than', 'mill', 'take', 'are', 'here', 'top', 'alone', 'bill', 'these', 'something', 'becomes', 'another', 'many', 'is', 'somewhere', 'show', 'a', 'too', 're', 'whom', 'hereupon', 'him', 'amount', 'beside', 'put', 'whither', 'yourself', 'whence', 'nothing', 'not', 'who', 'whereas', 'out', 'toward', 'beforehand', 'seems', 'without', 'what', 'along', 'two', 'sometimes', 'same', 'about', 'my', 'be', 'fire', 'find', 'twenty', 'eleven', 'describe', 'throughout', 'enough', 'else', 'ever', 'others', 'we', 'cannot', 'anyhow', 'keep', 'how', 'less', 'someone', 'only', 'somehow', 'thus', 'seemed', 'give', 'wherever', 'from', 'part', 'now', 'nevertheless', 'could', 'he', 'con', 'anyway', 'mine', 'into', 'for', 'i', 'much', 'must', 'though', 'first', 'beyond', 'twelve', 'cant', 'namely', 'go', 'so', 'amoungst', 'has', 'due', 'front', 'hence', 'nowhere', 'fifty', 'elsewhere', 'back', 'within', 'whose', 'hers', 'will', 'also', 'six', 'yet', 'becoming', 'when', 'of', 'cry', 'amongst', 'seem', 'whereupon', 'forty', 'per', 'four', 'but', 'became', 'next', 'because', 'some', 'ourselves', 'you', 'down', 'each', 'everything', 'whole', 'ten', 'anywhere', 'own', 'hereby', 'yourselves', 'whatever', 'indeed', 'well', 'seeming', 'both', 'few', 'sixty', 'had', 'thin', 'as', 'found', 'above', 'wherein', 'thereby', 'off', 'except', 'together', 'between', 'couldnt', 'around', 'and', 'were', 'those', 'all', 'very', 'call', 'hereafter', 'any', 'move', 'etc', 'formerly', 'or', 'made', 'why', 'none', 'then', 'noone', 'his', 'every', 'side', 'third', 'further', 'an', 'anyone', 'even', 'whereby', 'everyone', 'hasnt', 'whoever', 'if', 'behind', 'was', 'themselves', 'interest', 'again', 'herein', 'three', 'ie', 'most', 'such', 'neither', 'although', 'which', 'thereupon', 'former', 'in', 'mostly', 'since', 'still', 'besides', 'being', 'however', 'do', 'anything', 'full', 'latterly', 'latter', 'below', 'more', 'this', 'become', 'no', 'other', 'should', 'upon', 'eg', 'empty', 'please', 'our', 'almost', 'thereafter', 'me', 'after', 'therefore', 'before', 'whenever', 'yours', 'system', 'been', 'therein', 'would', 'un', 'name', 'de', 'get', 'perhaps', 'fifteen', 'inc', 'hundred', 'during', 'rather', 'over', 'at', 'it', 'sometime', 'onto', 'us', 'everywhere', 'under', 'several', 'always', 'through', 'where', 'himself', 'whereafter', 'myself', 'whether', 'against', 'can', 'bottom', 'its', 'there', 'eight', 'might'})\n"
     ]
    }
   ],
   "source": [
    "from sklearn.feature_extraction import stop_words\n",
    "print(stop_words.ENGLISH_STOP_WORDS)"
   ]
  },
  {
   "cell_type": "markdown",
   "metadata": {},
   "source": [
    "You should have seen a large list of words that looks like:\n",
    "\n",
    "```frozenset({'across', 'mine', 'cannot', ...})```\n",
    "\n",
    "`frozenset` is a type of Python object that is immutable. In this lab you can use it just like an array without conversion."
   ]
  },
  {
   "cell_type": "markdown",
   "metadata": {},
   "source": [
    "Next, test your function with supplying `stop_words.ENGLISH_STOP_WORDS` as the second parameter."
   ]
  },
  {
   "cell_type": "code",
   "execution_count": 23,
   "metadata": {},
   "outputs": [
    {
     "name": "stdout",
     "output_type": "stream",
     "text": [
      "{'bag_of_words': ['ironhack', 'cool', 'love', 'student'], 'term_freq': [[1, 1, 0, 0], [1, 0, 1, 0], [1, 0, 0, 1]]}\n"
     ]
    }
   ],
   "source": [
    "bow = get_bow_from_docs(docs, stop_words.ENGLISH_STOP_WORDS)\n",
    "\n",
    "print(bow)"
   ]
  },
  {
   "cell_type": "markdown",
   "metadata": {},
   "source": [
    "You should have seen:\n",
    "\n",
    "```{'bag_of_words': ['ironhack', 'cool', 'love', 'student'], 'term_freq': [[1, 1, 0, 0], [1, 0, 1, 0], [1, 0, 0, 1]]}```"
   ]
  }
 ],
 "metadata": {
  "kernelspec": {
   "display_name": "Python 3",
   "language": "python",
   "name": "python3"
  },
  "language_info": {
   "codemirror_mode": {
    "name": "ipython",
    "version": 3
   },
   "file_extension": ".py",
   "mimetype": "text/x-python",
   "name": "python",
   "nbconvert_exporter": "python",
   "pygments_lexer": "ipython3",
   "version": "3.7.4"
  }
 },
 "nbformat": 4,
 "nbformat_minor": 2
}
