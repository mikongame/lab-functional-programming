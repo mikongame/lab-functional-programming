{
 "cells": [
  {
   "cell_type": "markdown",
   "metadata": {},
   "source": [
    "In the cell below, create a Python function that wraps your previous solution for the Bag of Words lab.\n",
    "\n",
    "Requirements:\n",
    "\n",
    "1. Your function should accept the following parameters:\n",
    "    * `docs` [REQUIRED] - array of document paths.\n",
    "    * `stop_words` [OPTIONAL] - array of stop words. The default value is an empty array.\n",
    "\n",
    "1. Your function should return a Python object that contains the following:\n",
    "    * `bag_of_words` - array of strings of normalized unique words in the corpus.\n",
    "    * `term_freq` - array of the term-frequency vectors."
   ]
  },
  {
   "cell_type": "code",
   "execution_count": 1,
   "metadata": {},
   "outputs": [],
   "source": [
    "# Import libraries\n",
    "import os\n",
    "import numpy as np\n",
    "import pandas as pd\n",
    "import random\n",
    "import operator\n",
    "import re\n",
    "import math\n",
    "\n",
    "\n",
    "# Define function\n",
    "def get_bow_from_docs(docs, stop_words=[]):\n",
    "    \n",
    "    # In the function, first define the variables you will use such as `corpus`, `bag_of_words`, and `term_freq`.\n",
    "    \n",
    "    corpus = []\n",
    "    bag_of_words = []\n",
    "    term_freq = []\n",
    "    \n",
    "    \"\"\"\n",
    "    Loop `docs` and read the content of each doc into a string in `corpus`.\n",
    "    Remember to convert the doc content to lowercases and remove punctuation.\n",
    "    \"\"\"\n",
    "\n",
    "    corpus = [open(doc,\"r\").read() for doc in docs]\n",
    "    corpus = [doc.lower() for doc in corpus]\n",
    "    corpus = [re.sub(\"[^\\w\\w*]\", \" \", doc) for doc in corpus]\n",
    "    \n",
    "    \n",
    "    \"\"\"\n",
    "    Loop `corpus`. Append the terms in each doc into the `bag_of_words` array. The terms in `bag_of_words` \n",
    "    should be unique which means before adding each term you need to check if it's already added to the array.\n",
    "    In addition, check if each term is in the `stop_words` array. Only append the term to `bag_of_words`\n",
    "    if it is not a stop word.\n",
    "    \"\"\"\n",
    "\n",
    "    for doc in corpus:\n",
    "        split = doc.split()\n",
    "        for word in split:\n",
    "            if word not in bag_of_words and word not in stop_words:\n",
    "                bag_of_words.append(word)\n",
    "    \n",
    "    \n",
    "    \"\"\"\n",
    "    Loop `corpus` again. For each doc string, count the number of occurrences of each term in `bag_of_words`. \n",
    "    Create an array for each doc's term frequency and append it to `term_freq`.\n",
    "    \"\"\"\n",
    "\n",
    "    for doc in corpus:\n",
    "        frequency = []\n",
    "        terms = doc.split()\n",
    "        for word in bag_of_words:\n",
    "            frequency.append(terms.count(word))\n",
    "        term_freq.append(frequency)\n",
    "    \n",
    "    # Now return your output as an object\n",
    "    return {\n",
    "        \"bag_of_words\": bag_of_words,\n",
    "        \"term_freq\": term_freq\n",
    "    }"
   ]
  },
  {
   "cell_type": "markdown",
   "metadata": {},
   "source": [
    "Test your function without stop words. You should see the output like below:\n",
    "\n",
    "```{'bag_of_words': ['ironhack', 'is', 'cool', 'i', 'love', 'am', 'a', 'student', 'at'], 'term_freq': [[1, 1, 1, 0, 0, 0, 0, 0, 0], [1, 0, 0, 1, 1, 0, 0, 0, 0], [1, 0, 0, 1, 0, 1, 1, 1, 1]]}```"
   ]
  },
  {
   "cell_type": "code",
   "execution_count": 2,
   "metadata": {},
   "outputs": [
    {
     "name": "stdout",
     "output_type": "stream",
     "text": [
      "{'bag_of_words': ['ironhack', 'is', 'cool', 'i', 'love', 'am', 'a', 'student', 'at'], 'term_freq': [[1, 1, 1, 0, 0, 0, 0, 0, 0], [1, 0, 0, 1, 1, 0, 0, 0, 0], [1, 0, 0, 1, 0, 1, 1, 1, 1]]}\n"
     ]
    }
   ],
   "source": [
    "# Define doc paths array\n",
    "docs = [\"doc1.txt\",\"doc2.txt\",\"doc3.txt\"]\n",
    "\n",
    "# Obtain BoW from your function\n",
    "bow = get_bow_from_docs(docs)\n",
    "\n",
    "# Print BoW\n",
    "print(bow)"
   ]
  },
  {
   "cell_type": "markdown",
   "metadata": {},
   "source": [
    "If your attempt above is successful, nice work done!\n",
    "\n",
    "Now test your function again with the stop words. In the previous lab we defined the stop words in a large array. In this lab, we'll import the stop words from Scikit-Learn."
   ]
  },
  {
   "cell_type": "code",
   "execution_count": 3,
   "metadata": {},
   "outputs": [
    {
     "name": "stdout",
     "output_type": "stream",
     "text": [
      "frozenset({'thereafter', 'thence', 'within', 'you', 'fill', 'its', 'his', 'throughout', 'between', 'becomes', 'often', 'is', 'while', 'beforehand', 'why', 'were', 'nine', 'formerly', 'go', 'without', 'twelve', 'my', 'under', 'see', 'whenever', 'where', 'hers', 'i', 'further', 'ltd', 'could', 'anyone', 'himself', 'the', 'interest', 'get', 'take', 'would', 'but', 'afterwards', 'can', 'always', 'him', 'next', 'this', 'too', 'ever', 'at', 'again', 'two', 'everything', 'except', 'she', 'hasnt', 'on', 'never', 'three', 'may', 'each', 'elsewhere', 'fire', 'whereby', 'have', 'eg', 'six', 'everyone', 'down', 'so', 'hereupon', 'give', 'de', 'either', 'moreover', 'fifty', 'once', 'through', 'seemed', 'third', 'mill', 'what', 'hence', 'though', 'who', 'whatever', 'somewhere', 'almost', 'become', 'meanwhile', 'than', 'last', 'should', 'co', 'her', 'several', 'front', 'along', 'neither', 'therefore', 'such', 'very', 'keep', 'will', 'bill', 'amount', 'someone', 'ten', 're', 'please', 'us', 'around', 'whereafter', 'they', 'we', 'whither', 'an', 'fifteen', 'indeed', 'no', 'other', 'against', 'had', 'namely', 'first', 'twenty', 'alone', 'perhaps', 'seeming', 'beside', 'anyhow', 'less', 'our', 'here', 'few', 'upon', 'over', 'sometime', 'although', 'every', 'as', 'myself', 'nevertheless', 'therein', 'already', 'be', 'another', 'whom', 'thru', 'describe', 'only', 'full', 'these', 'being', 'empty', 'ours', 'whose', 'beyond', 'otherwise', 'anyway', 'mine', 'herself', 'something', 'whence', 'whether', 'done', 'yet', 'since', 'above', 'became', 'made', 'among', 'others', 'wherever', 'least', 'put', 'move', 'am', 'are', 'nor', 'themselves', 'same', 'after', 'still', 'besides', 'me', 'eight', 'found', 'when', 'none', 'their', 'during', 'until', 'anything', 'all', 'been', 'five', 'even', 'yourselves', 'cannot', 'eleven', 'he', 'if', 'towards', 'sometimes', 'mostly', 'nothing', 'thereupon', 'or', 'some', 'also', 'of', 'now', 'that', 'off', 'detail', 'bottom', 'latter', 'has', 'how', 'couldnt', 'hundred', 'top', 'latterly', 'most', 'any', 'much', 'then', 'via', 'must', 'more', 'enough', 'sixty', 'anywhere', 'your', 'behind', 'somehow', 'amongst', 'serious', 'due', 'wherein', 'ourselves', 'together', 'nowhere', 'per', 'and', 'them', 'below', 'before', 'four', 'into', 'forty', 'across', 'call', 'else', 'there', 'whereupon', 'ie', 'inc', 'yourself', 'in', 'thereby', 'do', 'thick', 'itself', 'because', 'con', 'many', 'amoungst', 'it', 'name', 'might', 'side', 'whole', 'both', 'noone', 'thin', 'whoever', 'own', 'etc', 'whereas', 'however', 'up', 'those', 'toward', 'one', 'becoming', 'which', 'show', 'hereby', 'well', 'rather', 'yours', 'seem', 'sincere', 'out', 'by', 'seems', 'back', 'cry', 'a', 'with', 'for', 'onto', 'hereafter', 'was', 'find', 'system', 'everywhere', 'from', 'cant', 'former', 'about', 'herein', 'un', 'part', 'to', 'not', 'nobody', 'thus'})\n"
     ]
    }
   ],
   "source": [
    "from sklearn.feature_extraction import stop_words\n",
    "print(stop_words.ENGLISH_STOP_WORDS)"
   ]
  },
  {
   "cell_type": "markdown",
   "metadata": {},
   "source": [
    "You should have seen a large list of words that looks like:\n",
    "\n",
    "```frozenset({'across', 'mine', 'cannot', ...})```\n",
    "\n",
    "`frozenset` is a type of Python object that is immutable. In this lab you can use it just like an array without conversion."
   ]
  },
  {
   "cell_type": "markdown",
   "metadata": {},
   "source": [
    "Next, test your function with supplying `stop_words.ENGLISH_STOP_WORDS` as the second parameter."
   ]
  },
  {
   "cell_type": "code",
   "execution_count": 4,
   "metadata": {},
   "outputs": [
    {
     "name": "stdout",
     "output_type": "stream",
     "text": [
      "{'bag_of_words': ['ironhack', 'cool', 'love', 'student'], 'term_freq': [[1, 1, 0, 0], [1, 0, 1, 0], [1, 0, 0, 1]]}\n"
     ]
    }
   ],
   "source": [
    "bow = get_bow_from_docs(docs, stop_words.ENGLISH_STOP_WORDS)\n",
    "\n",
    "print(bow)"
   ]
  },
  {
   "cell_type": "markdown",
   "metadata": {},
   "source": [
    "You should have seen:\n",
    "\n",
    "```{'bag_of_words': ['ironhack', 'cool', 'love', 'student'], 'term_freq': [[1, 1, 0, 0], [1, 0, 1, 0], [1, 0, 0, 1]]}```"
   ]
  }
 ],
 "metadata": {
  "kernelspec": {
   "display_name": "Python 3",
   "language": "python",
   "name": "python3"
  },
  "language_info": {
   "codemirror_mode": {
    "name": "ipython",
    "version": 3
   },
   "file_extension": ".py",
   "mimetype": "text/x-python",
   "name": "python",
   "nbconvert_exporter": "python",
   "pygments_lexer": "ipython3",
   "version": "3.7.4"
  }
 },
 "nbformat": 4,
 "nbformat_minor": 2
}
